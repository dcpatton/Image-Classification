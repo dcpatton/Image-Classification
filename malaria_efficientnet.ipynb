{
  "nbformat": 4,
  "nbformat_minor": 0,
  "metadata": {
    "colab": {
      "name": "malaria_efficientnet.ipynb",
      "provenance": [],
      "authorship_tag": "ABX9TyMItjem8aDWarEP4tURoOsh",
      "include_colab_link": true
    },
    "kernelspec": {
      "name": "python3",
      "display_name": "Python 3"
    },
    "accelerator": "GPU"
  },
  "cells": [
    {
      "cell_type": "markdown",
      "metadata": {
        "id": "view-in-github",
        "colab_type": "text"
      },
      "source": [
        "<a href=\"https://colab.research.google.com/github/dcpatton/Image-Classification/blob/master/malaria_efficientnet.ipynb\" target=\"_parent\"><img src=\"https://colab.research.google.com/assets/colab-badge.svg\" alt=\"Open In Colab\"/></a>"
      ]
    },
    {
      "cell_type": "code",
      "metadata": {
        "id": "QeyBaRGtjTdx"
      },
      "source": [
        "import tensorflow as tf\n",
        "import tensorflow_datasets as tfds\n",
        "import tensorflow_hub as hub\n",
        "import random\n",
        "\n",
        "seed = 52\n",
        "tf.random.set_seed(seed)\n",
        "random.seed(seed)\n",
        "\n",
        "print('TensorFlow version: ' + tf.__version__)"
      ],
      "execution_count": 1,
      "outputs": []
    },
    {
      "cell_type": "markdown",
      "metadata": {
        "id": "PldBJY6KRYDL"
      },
      "source": [
        "# The Data"
      ]
    },
    {
      "cell_type": "code",
      "metadata": {
        "id": "0yn9fkRBjr53"
      },
      "source": [
        "raw_ds = tfds.load('malaria', split='train', shuffle_files=True, as_supervised=True, try_gcs=True)"
      ],
      "execution_count": 2,
      "outputs": []
    },
    {
      "cell_type": "code",
      "metadata": {
        "id": "sZpfw-11nUZt"
      },
      "source": [
        "train_ds = raw_ds.take(22046)\n",
        "test_ds = raw_ds.skip(22046)\n",
        "val_ds = test_ds.take(2756)\n",
        "test_ds = test_ds.skip(2756)"
      ],
      "execution_count": 3,
      "outputs": []
    },
    {
      "cell_type": "code",
      "metadata": {
        "id": "klxsYp1lsMLA"
      },
      "source": [
        "def resize_image(image, label):\n",
        "  image = tf.image.resize(image, [380, 380]) #  This aligns with EfficientNet B4\n",
        "  return image, label"
      ],
      "execution_count": 4,
      "outputs": []
    },
    {
      "cell_type": "code",
      "metadata": {
        "id": "cgZ9be0wo3-5"
      },
      "source": [
        "BATCH_SIZE = 32\n",
        "\n",
        "train_ds = train_ds.shuffle(1024)\n",
        "train_ds = train_ds.map(resize_image, num_parallel_calls=tf.data.experimental.AUTOTUNE)\n",
        "train_ds = train_ds.batch(BATCH_SIZE)\n",
        "train_ds = train_ds.prefetch(tf.data.experimental.AUTOTUNE)\n",
        "val_ds = val_ds.map(resize_image, num_parallel_calls=tf.data.experimental.AUTOTUNE)\n",
        "val_ds = val_ds.batch(BATCH_SIZE)\n",
        "val_ds = val_ds.prefetch(tf.data.experimental.AUTOTUNE)\n",
        "test_ds = test_ds.map(resize_image, num_parallel_calls=tf.data.experimental.AUTOTUNE)\n",
        "test_ds = test_ds.batch(BATCH_SIZE)\n",
        "test_ds = test_ds.prefetch(tf.data.experimental.AUTOTUNE)"
      ],
      "execution_count": 5,
      "outputs": []
    },
    {
      "cell_type": "markdown",
      "metadata": {
        "id": "vXEzzPFXRc9x"
      },
      "source": [
        "# The Model"
      ]
    },
    {
      "cell_type": "code",
      "metadata": {
        "id": "D3gB2p5apVPY",
        "outputId": "b0425936-5e19-4e71-d894-771f2f5cff6e",
        "colab": {
          "base_uri": "https://localhost:8080/",
          "height": 289
        }
      },
      "source": [
        "tf.keras.backend.clear_session()\n",
        "from tensorflow.keras.layers import Dense, BatchNormalization, Dropout, GaussianNoise\n",
        "from tensorflow.keras import Input, Model\n",
        "from tensorflow.keras.layers.experimental.preprocessing import RandomRotation, Rescaling, Resizing, RandomFlip, RandomContrast, RandomZoom\n",
        "\n",
        "model_url = \"https://tfhub.dev/tensorflow/efficientnet/b4/feature-vector/1\"\n",
        "hub_layer = hub.KerasLayer(model_url, trainable=False)\n",
        "\n",
        "inp = Input(shape=(380, 380, 3))\n",
        "# x = Resizing(380, 380)(inp)\n",
        "# x = RandomRotation(0.5)(x)\n",
        "# x = RandomFlip(mode='horizontal_and_vertical')(x)\n",
        "# x = RandomContrast(0.1)(x)\n",
        "# x = RandomZoom(height_factor=0.1, width_factor=0.1)(x)\n",
        "x = Rescaling(scale=1./255., offset=0.0)(inp)\n",
        "# x = GaussianNoise(stddev=0.2)(x)\n",
        "x = hub_layer(x)\n",
        "# x = Dropout(0.25)(x)\n",
        "# x = BatchNormalization()(x)\n",
        "out = Dense(1, activation='sigmoid')(x)\n",
        "\n",
        "model = Model(inputs=[inp], outputs=[out])\n",
        "\n",
        "model.summary()"
      ],
      "execution_count": 6,
      "outputs": [
        {
          "output_type": "stream",
          "text": [
            "Model: \"functional_1\"\n",
            "_________________________________________________________________\n",
            "Layer (type)                 Output Shape              Param #   \n",
            "=================================================================\n",
            "input_1 (InputLayer)         [(None, 380, 380, 3)]     0         \n",
            "_________________________________________________________________\n",
            "rescaling (Rescaling)        (None, 380, 380, 3)       0         \n",
            "_________________________________________________________________\n",
            "keras_layer (KerasLayer)     (None, 1792)              17673816  \n",
            "_________________________________________________________________\n",
            "dense (Dense)                (None, 1)                 1793      \n",
            "=================================================================\n",
            "Total params: 17,675,609\n",
            "Trainable params: 1,793\n",
            "Non-trainable params: 17,673,816\n",
            "_________________________________________________________________\n"
          ],
          "name": "stdout"
        }
      ]
    },
    {
      "cell_type": "code",
      "metadata": {
        "id": "9Gfu-fg2pxKC"
      },
      "source": [
        "model.compile(optimizer='adam', loss='binary_crossentropy', metrics=[tf.keras.metrics.AUC()])"
      ],
      "execution_count": 7,
      "outputs": []
    },
    {
      "cell_type": "markdown",
      "metadata": {
        "id": "qJI7sB7tRfVJ"
      },
      "source": [
        "# Training"
      ]
    },
    {
      "cell_type": "code",
      "metadata": {
        "id": "TUS2VFWMp8Mj",
        "outputId": "47b9b3fa-d34b-4a93-979a-f376f62803ae",
        "colab": {
          "base_uri": "https://localhost:8080/",
          "height": 1000
        }
      },
      "source": [
        "es = tf.keras.callbacks.EarlyStopping(patience=10, verbose=1, restore_best_weights=True)\n",
        "\n",
        "history = model.fit(train_ds, epochs=200, validation_data=val_ds, callbacks=[es])"
      ],
      "execution_count": 8,
      "outputs": [
        {
          "output_type": "stream",
          "text": [
            "Epoch 1/200\n",
            "689/689 [==============================] - 200s 290ms/step - loss: 0.2404 - auc: 0.9681 - val_loss: 0.1858 - val_auc: 0.9800\n",
            "Epoch 2/200\n",
            "689/689 [==============================] - 197s 286ms/step - loss: 0.1689 - auc: 0.9825 - val_loss: 0.1640 - val_auc: 0.9836\n",
            "Epoch 3/200\n",
            "689/689 [==============================] - 198s 287ms/step - loss: 0.1541 - auc: 0.9849 - val_loss: 0.1577 - val_auc: 0.9854\n",
            "Epoch 4/200\n",
            "689/689 [==============================] - 198s 287ms/step - loss: 0.1457 - auc: 0.9863 - val_loss: 0.1475 - val_auc: 0.9866\n",
            "Epoch 5/200\n",
            "689/689 [==============================] - 197s 286ms/step - loss: 0.1408 - auc: 0.9870 - val_loss: 0.1441 - val_auc: 0.9871\n",
            "Epoch 6/200\n",
            "689/689 [==============================] - 198s 287ms/step - loss: 0.1362 - auc: 0.9879 - val_loss: 0.1478 - val_auc: 0.9874\n",
            "Epoch 7/200\n",
            "689/689 [==============================] - 198s 288ms/step - loss: 0.1336 - auc: 0.9883 - val_loss: 0.1393 - val_auc: 0.9877\n",
            "Epoch 8/200\n",
            "689/689 [==============================] - 197s 287ms/step - loss: 0.1304 - auc: 0.9887 - val_loss: 0.1366 - val_auc: 0.9878\n",
            "Epoch 9/200\n",
            "689/689 [==============================] - 198s 287ms/step - loss: 0.1292 - auc: 0.9889 - val_loss: 0.1370 - val_auc: 0.9882\n",
            "Epoch 10/200\n",
            "689/689 [==============================] - 198s 287ms/step - loss: 0.1264 - auc: 0.9893 - val_loss: 0.1346 - val_auc: 0.9882\n",
            "Epoch 11/200\n",
            "689/689 [==============================] - 198s 287ms/step - loss: 0.1251 - auc: 0.9896 - val_loss: 0.1320 - val_auc: 0.9887\n",
            "Epoch 12/200\n",
            "689/689 [==============================] - 197s 286ms/step - loss: 0.1237 - auc: 0.9897 - val_loss: 0.1326 - val_auc: 0.9883\n",
            "Epoch 13/200\n",
            "689/689 [==============================] - 197s 287ms/step - loss: 0.1223 - auc: 0.9900 - val_loss: 0.1306 - val_auc: 0.9891\n",
            "Epoch 14/200\n",
            "689/689 [==============================] - 197s 286ms/step - loss: 0.1207 - auc: 0.9903 - val_loss: 0.1329 - val_auc: 0.9890\n",
            "Epoch 15/200\n",
            "689/689 [==============================] - 197s 287ms/step - loss: 0.1197 - auc: 0.9903 - val_loss: 0.1323 - val_auc: 0.9891\n",
            "Epoch 16/200\n",
            "689/689 [==============================] - 198s 287ms/step - loss: 0.1188 - auc: 0.9905 - val_loss: 0.1290 - val_auc: 0.9890\n",
            "Epoch 17/200\n",
            "689/689 [==============================] - 197s 286ms/step - loss: 0.1174 - auc: 0.9906 - val_loss: 0.1275 - val_auc: 0.9893\n",
            "Epoch 18/200\n",
            "689/689 [==============================] - 197s 286ms/step - loss: 0.1168 - auc: 0.9908 - val_loss: 0.1292 - val_auc: 0.9892\n",
            "Epoch 19/200\n",
            "689/689 [==============================] - 197s 286ms/step - loss: 0.1158 - auc: 0.9909 - val_loss: 0.1400 - val_auc: 0.9894\n",
            "Epoch 20/200\n",
            "689/689 [==============================] - 197s 286ms/step - loss: 0.1149 - auc: 0.9910 - val_loss: 0.1269 - val_auc: 0.9896\n",
            "Epoch 21/200\n",
            "689/689 [==============================] - 197s 287ms/step - loss: 0.1140 - auc: 0.9912 - val_loss: 0.1253 - val_auc: 0.9896\n",
            "Epoch 22/200\n",
            "689/689 [==============================] - 197s 286ms/step - loss: 0.1132 - auc: 0.9914 - val_loss: 0.1264 - val_auc: 0.9895\n",
            "Epoch 23/200\n",
            "689/689 [==============================] - 197s 286ms/step - loss: 0.1122 - auc: 0.9914 - val_loss: 0.1290 - val_auc: 0.9896\n",
            "Epoch 24/200\n",
            "689/689 [==============================] - 197s 286ms/step - loss: 0.1120 - auc: 0.9915 - val_loss: 0.1247 - val_auc: 0.9897\n",
            "Epoch 25/200\n",
            "689/689 [==============================] - 197s 286ms/step - loss: 0.1112 - auc: 0.9916 - val_loss: 0.1247 - val_auc: 0.9896\n",
            "Epoch 26/200\n",
            "689/689 [==============================] - 198s 287ms/step - loss: 0.1107 - auc: 0.9917 - val_loss: 0.1245 - val_auc: 0.9899\n",
            "Epoch 27/200\n",
            "689/689 [==============================] - 198s 287ms/step - loss: 0.1096 - auc: 0.9918 - val_loss: 0.1257 - val_auc: 0.9899\n",
            "Epoch 28/200\n",
            "689/689 [==============================] - 198s 287ms/step - loss: 0.1091 - auc: 0.9919 - val_loss: 0.1239 - val_auc: 0.9897\n",
            "Epoch 29/200\n",
            "689/689 [==============================] - 198s 288ms/step - loss: 0.1088 - auc: 0.9919 - val_loss: 0.1247 - val_auc: 0.9897\n",
            "Epoch 30/200\n",
            "689/689 [==============================] - 200s 290ms/step - loss: 0.1082 - auc: 0.9920 - val_loss: 0.1238 - val_auc: 0.9899\n",
            "Epoch 31/200\n",
            "689/689 [==============================] - 199s 289ms/step - loss: 0.1080 - auc: 0.9921 - val_loss: 0.1231 - val_auc: 0.9899\n",
            "Epoch 32/200\n",
            "689/689 [==============================] - 198s 288ms/step - loss: 0.1072 - auc: 0.9921 - val_loss: 0.1282 - val_auc: 0.9900\n",
            "Epoch 33/200\n",
            "689/689 [==============================] - 198s 288ms/step - loss: 0.1071 - auc: 0.9921 - val_loss: 0.1230 - val_auc: 0.9898\n",
            "Epoch 34/200\n",
            "689/689 [==============================] - 198s 287ms/step - loss: 0.1065 - auc: 0.9923 - val_loss: 0.1220 - val_auc: 0.9900\n",
            "Epoch 35/200\n",
            "689/689 [==============================] - 198s 288ms/step - loss: 0.1063 - auc: 0.9923 - val_loss: 0.1210 - val_auc: 0.9901\n",
            "Epoch 36/200\n",
            "689/689 [==============================] - 199s 288ms/step - loss: 0.1056 - auc: 0.9924 - val_loss: 0.1230 - val_auc: 0.9900\n",
            "Epoch 37/200\n",
            "689/689 [==============================] - 198s 288ms/step - loss: 0.1058 - auc: 0.9924 - val_loss: 0.1294 - val_auc: 0.9901\n",
            "Epoch 38/200\n",
            "689/689 [==============================] - 198s 288ms/step - loss: 0.1051 - auc: 0.9925 - val_loss: 0.1252 - val_auc: 0.9901\n",
            "Epoch 39/200\n",
            "689/689 [==============================] - 198s 287ms/step - loss: 0.1044 - auc: 0.9925 - val_loss: 0.1215 - val_auc: 0.9901\n",
            "Epoch 40/200\n",
            "689/689 [==============================] - 198s 287ms/step - loss: 0.1044 - auc: 0.9925 - val_loss: 0.1225 - val_auc: 0.9901\n",
            "Epoch 41/200\n",
            "689/689 [==============================] - 199s 288ms/step - loss: 0.1040 - auc: 0.9927 - val_loss: 0.1227 - val_auc: 0.9900\n",
            "Epoch 42/200\n",
            "689/689 [==============================] - 198s 288ms/step - loss: 0.1038 - auc: 0.9927 - val_loss: 0.1249 - val_auc: 0.9902\n",
            "Epoch 43/200\n",
            "689/689 [==============================] - 198s 288ms/step - loss: 0.1028 - auc: 0.9927 - val_loss: 0.1208 - val_auc: 0.9902\n",
            "Epoch 44/200\n",
            "689/689 [==============================] - 198s 288ms/step - loss: 0.1033 - auc: 0.9926 - val_loss: 0.1240 - val_auc: 0.9899\n",
            "Epoch 45/200\n",
            "689/689 [==============================] - 198s 288ms/step - loss: 0.1026 - auc: 0.9926 - val_loss: 0.1201 - val_auc: 0.9904\n",
            "Epoch 46/200\n",
            "689/689 [==============================] - 198s 287ms/step - loss: 0.1017 - auc: 0.9929 - val_loss: 0.1210 - val_auc: 0.9901\n",
            "Epoch 47/200\n",
            "689/689 [==============================] - 198s 287ms/step - loss: 0.1021 - auc: 0.9928 - val_loss: 0.1205 - val_auc: 0.9902\n",
            "Epoch 48/200\n",
            "689/689 [==============================] - 198s 287ms/step - loss: 0.1015 - auc: 0.9930 - val_loss: 0.1212 - val_auc: 0.9903\n",
            "Epoch 49/200\n",
            "689/689 [==============================] - 198s 287ms/step - loss: 0.1008 - auc: 0.9930 - val_loss: 0.1206 - val_auc: 0.9903\n",
            "Epoch 50/200\n",
            "689/689 [==============================] - 198s 288ms/step - loss: 0.1007 - auc: 0.9930 - val_loss: 0.1217 - val_auc: 0.9901\n",
            "Epoch 51/200\n",
            "689/689 [==============================] - 198s 288ms/step - loss: 0.1015 - auc: 0.9928 - val_loss: 0.1227 - val_auc: 0.9903\n",
            "Epoch 52/200\n",
            "689/689 [==============================] - 199s 288ms/step - loss: 0.1001 - auc: 0.9931 - val_loss: 0.1225 - val_auc: 0.9903\n",
            "Epoch 53/200\n",
            "689/689 [==============================] - 198s 287ms/step - loss: 0.0999 - auc: 0.9931 - val_loss: 0.1202 - val_auc: 0.9903\n",
            "Epoch 54/200\n",
            "689/689 [==============================] - 198s 287ms/step - loss: 0.0998 - auc: 0.9931 - val_loss: 0.1205 - val_auc: 0.9902\n",
            "Epoch 55/200\n",
            "689/689 [==============================] - 197s 287ms/step - loss: 0.0997 - auc: 0.9931 - val_loss: 0.1190 - val_auc: 0.9904\n",
            "Epoch 56/200\n",
            "689/689 [==============================] - 198s 287ms/step - loss: 0.0997 - auc: 0.9931 - val_loss: 0.1200 - val_auc: 0.9903\n",
            "Epoch 57/200\n",
            "689/689 [==============================] - 198s 287ms/step - loss: 0.0990 - auc: 0.9933 - val_loss: 0.1224 - val_auc: 0.9904\n",
            "Epoch 58/200\n",
            "689/689 [==============================] - 198s 287ms/step - loss: 0.0992 - auc: 0.9932 - val_loss: 0.1211 - val_auc: 0.9904\n",
            "Epoch 59/200\n",
            "689/689 [==============================] - 197s 286ms/step - loss: 0.0985 - auc: 0.9933 - val_loss: 0.1192 - val_auc: 0.9904\n",
            "Epoch 60/200\n",
            "689/689 [==============================] - 197s 286ms/step - loss: 0.0980 - auc: 0.9934 - val_loss: 0.1196 - val_auc: 0.9904\n",
            "Epoch 61/200\n",
            "689/689 [==============================] - 199s 288ms/step - loss: 0.0975 - auc: 0.9935 - val_loss: 0.1201 - val_auc: 0.9904\n",
            "Epoch 62/200\n",
            "689/689 [==============================] - 199s 289ms/step - loss: 0.0977 - auc: 0.9934 - val_loss: 0.1220 - val_auc: 0.9906\n",
            "Epoch 63/200\n",
            "689/689 [==============================] - 198s 287ms/step - loss: 0.0976 - auc: 0.9934 - val_loss: 0.1192 - val_auc: 0.9904\n",
            "Epoch 64/200\n",
            "689/689 [==============================] - 198s 287ms/step - loss: 0.0973 - auc: 0.9935 - val_loss: 0.1190 - val_auc: 0.9904\n",
            "Epoch 65/200\n",
            "689/689 [==============================] - 198s 287ms/step - loss: 0.0975 - auc: 0.9933 - val_loss: 0.1195 - val_auc: 0.9903\n",
            "Epoch 66/200\n",
            "689/689 [==============================] - 198s 287ms/step - loss: 0.0967 - auc: 0.9936 - val_loss: 0.1214 - val_auc: 0.9906\n",
            "Epoch 67/200\n",
            "689/689 [==============================] - 198s 287ms/step - loss: 0.0969 - auc: 0.9935 - val_loss: 0.1198 - val_auc: 0.9905\n",
            "Epoch 68/200\n",
            "689/689 [==============================] - 198s 287ms/step - loss: 0.0967 - auc: 0.9936 - val_loss: 0.1234 - val_auc: 0.9904\n",
            "Epoch 69/200\n",
            "689/689 [==============================] - 198s 288ms/step - loss: 0.0960 - auc: 0.9937 - val_loss: 0.1186 - val_auc: 0.9906\n",
            "Epoch 70/200\n",
            "689/689 [==============================] - 198s 288ms/step - loss: 0.0959 - auc: 0.9937 - val_loss: 0.1222 - val_auc: 0.9905\n",
            "Epoch 71/200\n",
            "689/689 [==============================] - 200s 290ms/step - loss: 0.0956 - auc: 0.9936 - val_loss: 0.1190 - val_auc: 0.9907\n",
            "Epoch 72/200\n",
            "689/689 [==============================] - 198s 288ms/step - loss: 0.0958 - auc: 0.9937 - val_loss: 0.1182 - val_auc: 0.9905\n",
            "Epoch 73/200\n",
            "689/689 [==============================] - 198s 288ms/step - loss: 0.0949 - auc: 0.9938 - val_loss: 0.1183 - val_auc: 0.9907\n",
            "Epoch 74/200\n",
            "689/689 [==============================] - 198s 287ms/step - loss: 0.0954 - auc: 0.9937 - val_loss: 0.1183 - val_auc: 0.9907\n",
            "Epoch 75/200\n",
            "689/689 [==============================] - 198s 287ms/step - loss: 0.0952 - auc: 0.9937 - val_loss: 0.1253 - val_auc: 0.9904\n",
            "Epoch 76/200\n",
            "689/689 [==============================] - 198s 287ms/step - loss: 0.0947 - auc: 0.9938 - val_loss: 0.1205 - val_auc: 0.9907\n",
            "Epoch 77/200\n",
            "689/689 [==============================] - 198s 287ms/step - loss: 0.0942 - auc: 0.9938 - val_loss: 0.1184 - val_auc: 0.9905\n",
            "Epoch 78/200\n",
            "689/689 [==============================] - 198s 287ms/step - loss: 0.0943 - auc: 0.9938 - val_loss: 0.1210 - val_auc: 0.9903\n",
            "Epoch 79/200\n",
            "689/689 [==============================] - 198s 287ms/step - loss: 0.0945 - auc: 0.9938 - val_loss: 0.1184 - val_auc: 0.9905\n",
            "Epoch 80/200\n",
            "689/689 [==============================] - 198s 287ms/step - loss: 0.0939 - auc: 0.9939 - val_loss: 0.1191 - val_auc: 0.9907\n",
            "Epoch 81/200\n",
            "689/689 [==============================] - 198s 287ms/step - loss: 0.0937 - auc: 0.9940 - val_loss: 0.1209 - val_auc: 0.9908\n",
            "Epoch 82/200\n",
            "689/689 [==============================] - ETA: 0s - loss: 0.0945 - auc: 0.9938Restoring model weights from the end of the best epoch.\n",
            "689/689 [==============================] - 198s 287ms/step - loss: 0.0945 - auc: 0.9938 - val_loss: 0.1208 - val_auc: 0.9903\n",
            "Epoch 00082: early stopping\n"
          ],
          "name": "stdout"
        }
      ]
    },
    {
      "cell_type": "code",
      "metadata": {
        "id": "LyDj4PX3qBwz",
        "outputId": "eb78db3a-b16e-4cb3-9b4b-8d7cf00727d7",
        "colab": {
          "base_uri": "https://localhost:8080/",
          "height": 839
        }
      },
      "source": [
        "import matplotlib.pyplot as plt\n",
        "import seaborn as sns\n",
        "\n",
        "history = history.history\n",
        "\n",
        "fig, (ax1, ax2) = plt.subplots(2, 1, sharex='col', figsize=(20, 14))\n",
        "\n",
        "ax1.plot(history['loss'], label='Train loss')\n",
        "ax1.plot(history['val_loss'], label='Validation loss')\n",
        "ax1.legend(loc='best')\n",
        "ax1.set_title('Loss')\n",
        "\n",
        "ax2.plot(history['auc'], label='Training')\n",
        "ax2.plot(history['val_auc'], label='Validation')\n",
        "ax2.legend(loc='best')\n",
        "ax2.set_title('AUC')\n",
        "\n",
        "plt.xlabel('Epochs')\n",
        "sns.despine()\n",
        "plt.show()"
      ],
      "execution_count": 9,
      "outputs": [
        {
          "output_type": "display_data",
          "data": {
            "image/png": "[encoded data removed]",
            "text/plain": [
              "<Figure size 1440x1008 with 2 Axes>"
            ]
          },
          "metadata": {
            "tags": [],
            "needs_background": "light"
          }
        }
      ]
    },
    {
      "cell_type": "markdown",
      "metadata": {
        "id": "675QSNnuRiHQ"
      },
      "source": [
        "# Evaluation"
      ]
    },
    {
      "cell_type": "code",
      "metadata": {
        "id": "3fpx3wO4qIik",
        "outputId": "0f7ee6d0-6505-48bc-9d9c-d3948fb92d6a",
        "colab": {
          "base_uri": "https://localhost:8080/",
          "height": 51
        }
      },
      "source": [
        "model.evaluate(test_ds, verbose=1)"
      ],
      "execution_count": 10,
      "outputs": [
        {
          "output_type": "stream",
          "text": [
            "87/87 [==============================] - 20s 232ms/step - loss: 0.1306 - auc: 0.9875\n"
          ],
          "name": "stdout"
        },
        {
          "output_type": "execute_result",
          "data": {
            "text/plain": [
              "[0.13058173656463623, 0.9874762296676636]"
            ]
          },
          "metadata": {
            "tags": []
          },
          "execution_count": 10
        }
      ]
    }
  ]
}