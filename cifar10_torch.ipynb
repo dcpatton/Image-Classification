{
  "nbformat": 4,
  "nbformat_minor": 0,
  "metadata": {
    "colab": {
      "name": "cifar10_torch.ipynb",
      "provenance": [],
      "authorship_tag": "ABX9TyMFMijka6W5wdQ0ZBiH7PJi",
      "include_colab_link": true
    },
    "kernelspec": {
      "name": "python3",
      "display_name": "Python 3"
    },
    "accelerator": "GPU"
  },
  "cells": [
    {
      "cell_type": "markdown",
      "metadata": {
        "id": "view-in-github",
        "colab_type": "text"
      },
      "source": [
        "<a href=\"https://colab.research.google.com/github/dcpatton/Image-Classification/blob/master/cifar10_torch.ipynb\" target=\"_parent\"><img src=\"https://colab.research.google.com/assets/colab-badge.svg\" alt=\"Open In Colab\"/></a>"
      ]
    },
    {
      "cell_type": "markdown",
      "metadata": {
        "id": "0NBQLKmJyw6Z"
      },
      "source": [
        "# Objective\n",
        "\n",
        "\n",
        "\n",
        "> Just a simple example of image classification with a CNN in PyTorch"
      ]
    },
    {
      "cell_type": "code",
      "metadata": {
        "id": "aAE_Bkr1fE1u"
      },
      "source": [
        "import torch\n",
        "import torchvision\n",
        "import torchvision.transforms as transforms"
      ],
      "execution_count": 54,
      "outputs": []
    },
    {
      "cell_type": "code",
      "metadata": {
        "id": "LWk3hEhQi9TV"
      },
      "source": [
        "device = torch.device(\"cuda:0\" if torch.cuda.is_available() else \"cpu\")"
      ],
      "execution_count": 55,
      "outputs": []
    },
    {
      "cell_type": "code",
      "metadata": {
        "id": "hVrJef26fOLx",
        "outputId": "da8a0356-3fd6-4a3d-d3d2-6757d6202ca5",
        "colab": {
          "base_uri": "https://localhost:8080/",
          "height": 51
        }
      },
      "source": [
        "transform = transforms.Compose(\n",
        "    [transforms.ToTensor(),\n",
        "     transforms.Normalize((0.5, 0.5, 0.5), (0.5, 0.5, 0.5))])\n",
        "\n",
        "trainset = torchvision.datasets.CIFAR10(root='./data', train=True,\n",
        "                                        download=True, transform=transform)\n",
        "trainloader = torch.utils.data.DataLoader(trainset, batch_size=4,\n",
        "                                          shuffle=True, num_workers=2)\n",
        "\n",
        "testset = torchvision.datasets.CIFAR10(root='./data', train=False,\n",
        "                                       download=True, transform=transform)\n",
        "testloader = torch.utils.data.DataLoader(testset, batch_size=4,\n",
        "                                         shuffle=False, num_workers=2)\n",
        "\n",
        "classes = ('plane', 'car', 'bird', 'cat',\n",
        "           'deer', 'dog', 'frog', 'horse', 'ship', 'truck')"
      ],
      "execution_count": 56,
      "outputs": [
        {
          "output_type": "stream",
          "text": [
            "Files already downloaded and verified\n",
            "Files already downloaded and verified\n"
          ],
          "name": "stdout"
        }
      ]
    },
    {
      "cell_type": "code",
      "metadata": {
        "id": "_T_BjQ2ofYiB",
        "outputId": "c0e94de1-9b96-4f05-dd36-332b491399c0",
        "colab": {
          "base_uri": "https://localhost:8080/",
          "height": 34
        }
      },
      "source": [
        "len(trainset.targets)"
      ],
      "execution_count": 57,
      "outputs": [
        {
          "output_type": "execute_result",
          "data": {
            "text/plain": [
              "50000"
            ]
          },
          "metadata": {
            "tags": []
          },
          "execution_count": 57
        }
      ]
    },
    {
      "cell_type": "code",
      "metadata": {
        "id": "RfKIh6o6f1yv",
        "outputId": "36fafec2-d74f-4c12-f964-1d0a0f8a652c",
        "colab": {
          "base_uri": "https://localhost:8080/",
          "height": 34
        }
      },
      "source": [
        "len(testset.targets)"
      ],
      "execution_count": 58,
      "outputs": [
        {
          "output_type": "execute_result",
          "data": {
            "text/plain": [
              "10000"
            ]
          },
          "metadata": {
            "tags": []
          },
          "execution_count": 58
        }
      ]
    },
    {
      "cell_type": "code",
      "metadata": {
        "id": "mC1dnUanf11F"
      },
      "source": [
        "import torch.nn as nn\n",
        "import torch.nn.functional as F\n",
        "\n",
        "\n",
        "class Net(nn.Module):\n",
        "    def __init__(self):\n",
        "        super(Net, self).__init__()\n",
        "        self.conv1 = nn.Conv2d(3, 32, 5)\n",
        "        self.pool = nn.MaxPool2d(2, 2)\n",
        "        self.conv2 = nn.Conv2d(32, 16, 5)\n",
        "        self.fc1 = nn.Linear(16 * 5 * 5, 120)\n",
        "        self.fc2 = nn.Linear(120, 84)\n",
        "        self.fc3 = nn.Linear(84, 10)\n",
        "\n",
        "    def forward(self, x):\n",
        "        x = self.pool(F.relu(self.conv1(x)))\n",
        "        x = self.pool(F.relu(self.conv2(x)))\n",
        "        x = x.view(-1, 16 * 5 * 5)\n",
        "        x = F.relu(self.fc1(x))\n",
        "        x = F.relu(self.fc2(x))\n",
        "        x = self.fc3(x)\n",
        "        return x\n",
        "\n",
        "\n",
        "net = Net()"
      ],
      "execution_count": 59,
      "outputs": []
    },
    {
      "cell_type": "code",
      "metadata": {
        "id": "u5eatu_YjLDx",
        "outputId": "bef8d0b6-d3e8-4ed6-b132-0a573293551c",
        "colab": {
          "base_uri": "https://localhost:8080/",
          "height": 153
        }
      },
      "source": [
        "net.to(device)"
      ],
      "execution_count": 60,
      "outputs": [
        {
          "output_type": "execute_result",
          "data": {
            "text/plain": [
              "Net(\n",
              "  (conv1): Conv2d(3, 32, kernel_size=(5, 5), stride=(1, 1))\n",
              "  (pool): MaxPool2d(kernel_size=2, stride=2, padding=0, dilation=1, ceil_mode=False)\n",
              "  (conv2): Conv2d(32, 16, kernel_size=(5, 5), stride=(1, 1))\n",
              "  (fc1): Linear(in_features=400, out_features=120, bias=True)\n",
              "  (fc2): Linear(in_features=120, out_features=84, bias=True)\n",
              "  (fc3): Linear(in_features=84, out_features=10, bias=True)\n",
              ")"
            ]
          },
          "metadata": {
            "tags": []
          },
          "execution_count": 60
        }
      ]
    },
    {
      "cell_type": "code",
      "metadata": {
        "id": "52LNBcezf_XG"
      },
      "source": [
        "import torch.optim as optim\n",
        "\n",
        "criterion = nn.CrossEntropyLoss()\n",
        "optimizer = optim.Adam(net.parameters(),lr = 0.001)"
      ],
      "execution_count": 61,
      "outputs": []
    },
    {
      "cell_type": "code",
      "metadata": {
        "id": "Fm6x8mnhgFRN",
        "outputId": "827a3c03-603f-4cb8-d069-418540f92965",
        "colab": {
          "base_uri": "https://localhost:8080/",
          "height": 1000
        }
      },
      "source": [
        "for epoch in range(10):  # loop over the dataset multiple times\n",
        "\n",
        "    running_loss = 0.0\n",
        "    for i, data in enumerate(trainloader, 0):\n",
        "        # get the inputs; data is a list of [inputs, labels]\n",
        "        # inputs, labels = data\n",
        "        inputs, labels = data[0].to(device), data[1].to(device)\n",
        "\n",
        "        # zero the parameter gradients\n",
        "        optimizer.zero_grad()\n",
        "\n",
        "        # forward + backward + optimize\n",
        "        outputs = net(inputs)\n",
        "        loss = criterion(outputs, labels)\n",
        "        loss.backward()\n",
        "        optimizer.step()\n",
        "\n",
        "        # print statistics\n",
        "        running_loss += loss.item()\n",
        "        if i % 2000 == 1999:    # print every 2000 mini-batches\n",
        "            print('[%d, %5d] loss: %.3f' %\n",
        "                  (epoch + 1, i + 1, running_loss / 2000))\n",
        "            running_loss = 0.0\n",
        "\n",
        "print('Finished Training')"
      ],
      "execution_count": 62,
      "outputs": [
        {
          "output_type": "stream",
          "text": [
            "[1,  2000] loss: 1.834\n",
            "[1,  4000] loss: 1.580\n",
            "[1,  6000] loss: 1.504\n",
            "[1,  8000] loss: 1.455\n",
            "[1, 10000] loss: 1.390\n",
            "[1, 12000] loss: 1.361\n",
            "[2,  2000] loss: 1.288\n",
            "[2,  4000] loss: 1.287\n",
            "[2,  6000] loss: 1.242\n",
            "[2,  8000] loss: 1.257\n",
            "[2, 10000] loss: 1.239\n",
            "[2, 12000] loss: 1.236\n",
            "[3,  2000] loss: 1.152\n",
            "[3,  4000] loss: 1.147\n",
            "[3,  6000] loss: 1.141\n",
            "[3,  8000] loss: 1.141\n",
            "[3, 10000] loss: 1.132\n",
            "[3, 12000] loss: 1.098\n",
            "[4,  2000] loss: 1.049\n",
            "[4,  4000] loss: 1.053\n",
            "[4,  6000] loss: 1.043\n",
            "[4,  8000] loss: 1.047\n",
            "[4, 10000] loss: 1.061\n",
            "[4, 12000] loss: 1.050\n",
            "[5,  2000] loss: 0.985\n",
            "[5,  4000] loss: 0.992\n",
            "[5,  6000] loss: 1.007\n",
            "[5,  8000] loss: 1.015\n",
            "[5, 10000] loss: 0.980\n",
            "[5, 12000] loss: 0.995\n",
            "[6,  2000] loss: 0.946\n",
            "[6,  4000] loss: 0.941\n",
            "[6,  6000] loss: 0.947\n",
            "[6,  8000] loss: 0.966\n",
            "[6, 10000] loss: 0.955\n",
            "[6, 12000] loss: 0.956\n",
            "[7,  2000] loss: 0.902\n",
            "[7,  4000] loss: 0.931\n",
            "[7,  6000] loss: 0.903\n",
            "[7,  8000] loss: 0.929\n",
            "[7, 10000] loss: 0.957\n",
            "[7, 12000] loss: 0.932\n",
            "[8,  2000] loss: 0.853\n",
            "[8,  4000] loss: 0.890\n",
            "[8,  6000] loss: 0.904\n",
            "[8,  8000] loss: 0.892\n",
            "[8, 10000] loss: 0.915\n",
            "[8, 12000] loss: 0.927\n",
            "[9,  2000] loss: 0.821\n",
            "[9,  4000] loss: 0.842\n",
            "[9,  6000] loss: 0.879\n",
            "[9,  8000] loss: 0.859\n",
            "[9, 10000] loss: 0.884\n",
            "[9, 12000] loss: 0.891\n",
            "[10,  2000] loss: 0.832\n",
            "[10,  4000] loss: 0.829\n",
            "[10,  6000] loss: 0.849\n",
            "[10,  8000] loss: 0.861\n",
            "[10, 10000] loss: 0.855\n",
            "[10, 12000] loss: 0.861\n",
            "Finished Training\n"
          ],
          "name": "stdout"
        }
      ]
    },
    {
      "cell_type": "code",
      "metadata": {
        "id": "5ErQdIJzf_eV"
      },
      "source": [
        "PATH = './cifar_net.pth'\n",
        "torch.save(net.state_dict(), PATH)"
      ],
      "execution_count": 63,
      "outputs": []
    },
    {
      "cell_type": "code",
      "metadata": {
        "id": "RRuxTgcXgQwS",
        "outputId": "f038b8bc-191e-441c-d83c-09b8731508d1",
        "colab": {
          "base_uri": "https://localhost:8080/",
          "height": 34
        }
      },
      "source": [
        "net = Net()\n",
        "net.load_state_dict(torch.load(PATH))"
      ],
      "execution_count": 64,
      "outputs": [
        {
          "output_type": "execute_result",
          "data": {
            "text/plain": [
              "<All keys matched successfully>"
            ]
          },
          "metadata": {
            "tags": []
          },
          "execution_count": 64
        }
      ]
    },
    {
      "cell_type": "code",
      "metadata": {
        "id": "Qyx4qNvhgbfh",
        "outputId": "385f0079-337a-4d83-9c83-659161d02240",
        "colab": {
          "base_uri": "https://localhost:8080/",
          "height": 34
        }
      },
      "source": [
        "correct = 0\n",
        "total = 0\n",
        "with torch.no_grad():\n",
        "    for data in testloader:\n",
        "        images, labels = data\n",
        "        outputs = net(images)\n",
        "        _, predicted = torch.max(outputs.data, 1)\n",
        "        total += labels.size(0)\n",
        "        correct += (predicted == labels).sum().item()\n",
        "\n",
        "print('Accuracy of the network on the 10000 test images: %d %%' % (\n",
        "    100 * correct / total))"
      ],
      "execution_count": 65,
      "outputs": [
        {
          "output_type": "stream",
          "text": [
            "Accuracy of the network on the 10000 test images: 66 %\n"
          ],
          "name": "stdout"
        }
      ]
    }
  ]
}