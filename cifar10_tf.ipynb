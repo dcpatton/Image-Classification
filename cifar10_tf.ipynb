{
  "nbformat": 4,
  "nbformat_minor": 0,
  "metadata": {
    "colab": {
      "name": "cifar10_tf.ipynb",
      "provenance": [],
      "authorship_tag": "ABX9TyNSr/Rqw/j1j+r/oMK5Om6X",
      "include_colab_link": true
    },
    "kernelspec": {
      "name": "python3",
      "display_name": "Python 3"
    },
    "accelerator": "GPU"
  },
  "cells": [
    {
      "cell_type": "markdown",
      "metadata": {
        "id": "view-in-github",
        "colab_type": "text"
      },
      "source": [
        "<a href=\"https://colab.research.google.com/github/dcpatton/Image-Classification/blob/master/cifar10_tf.ipynb\" target=\"_parent\"><img src=\"https://colab.research.google.com/assets/colab-badge.svg\" alt=\"Open In Colab\"/></a>"
      ]
    },
    {
      "cell_type": "markdown",
      "metadata": {
        "id": "5Of2BMDeyjMX"
      },
      "source": [
        "# Objective\n",
        "\n",
        "\n",
        "\n",
        "> Just a simple example of image classification with a CNN in TensorFlow\n",
        "\n"
      ]
    },
    {
      "cell_type": "code",
      "metadata": {
        "id": "I-iahbX8dFXL",
        "outputId": "dad1bedc-b725-4937-f2da-10b0cfb08c32",
        "colab": {
          "base_uri": "https://localhost:8080/",
          "height": 35
        }
      },
      "source": [
        "import tensorflow as tf\n",
        "import random\n",
        "\n",
        "seed = 52\n",
        "tf.random.set_seed(seed)\n",
        "random.seed(seed)\n",
        "\n",
        "tf.__version__"
      ],
      "execution_count": 20,
      "outputs": [
        {
          "output_type": "execute_result",
          "data": {
            "application/vnd.google.colaboratory.intrinsic+json": {
              "type": "string"
            },
            "text/plain": [
              "'2.3.0'"
            ]
          },
          "metadata": {
            "tags": []
          },
          "execution_count": 20
        }
      ]
    },
    {
      "cell_type": "markdown",
      "metadata": {
        "id": "E_v1V8LEy3ut"
      },
      "source": [
        "# Get the data"
      ]
    },
    {
      "cell_type": "code",
      "metadata": {
        "id": "RdoXXxdZdSpk"
      },
      "source": [
        "(train_images, train_labels), (test_images, test_labels) = tf.keras.datasets.cifar10.load_data()\n",
        "# Normalize the data\n",
        "train_images, test_images = train_images / 255.0, test_images / 255.0\n",
        "train_labels = tf.keras.utils.to_categorical(train_labels)\n",
        "test_labels = tf.keras.utils.to_categorical(test_labels)"
      ],
      "execution_count": 21,
      "outputs": []
    },
    {
      "cell_type": "code",
      "metadata": {
        "id": "cZiu0IFEdael",
        "outputId": "f7a55db3-52c9-436f-bdcc-475dd8e0662c",
        "colab": {
          "base_uri": "https://localhost:8080/",
          "height": 51
        }
      },
      "source": [
        "print(train_images.shape)\n",
        "print(test_images.shape)"
      ],
      "execution_count": 22,
      "outputs": [
        {
          "output_type": "stream",
          "text": [
            "(50000, 32, 32, 3)\n",
            "(10000, 32, 32, 3)\n"
          ],
          "name": "stdout"
        }
      ]
    },
    {
      "cell_type": "markdown",
      "metadata": {
        "id": "zlApp8dxy7Ws"
      },
      "source": [
        "# Model"
      ]
    },
    {
      "cell_type": "code",
      "metadata": {
        "id": "_DlPei_tdgwB",
        "outputId": "1c0542a6-c0c9-4868-81c2-eba59ed34e76",
        "colab": {
          "base_uri": "https://localhost:8080/",
          "height": 527
        }
      },
      "source": [
        "from tensorflow.keras.layers import Conv2D, Flatten, MaxPool2D, Dense\n",
        "from tensorflow.keras import Input, Model\n",
        "\n",
        "inp = Input(shape=(32, 32, 3), name='inp')\n",
        "x = Conv2D(64, 3, activation='relu')(inp)\n",
        "x = MaxPool2D()(x)\n",
        "x = Conv2D(128, 3, activation='relu')(x)\n",
        "x = MaxPool2D()(x)\n",
        "x = Conv2D(256, 3, activation='relu')(x)\n",
        "x = MaxPool2D()(x)\n",
        "x = Flatten()(x)\n",
        "x = Dense(256, activation='relu')(x)\n",
        "x = Dense(128, activation='relu')(x)\n",
        "out = Dense(10, activation='softmax', name='out')(x)\n",
        "\n",
        "model = Model(inputs=[inp], outputs=[out])\n",
        "\n",
        "model.compile(optimizer=tf.keras.optimizers.Adam(),\n",
        "              loss=tf.keras.losses.CategoricalCrossentropy(from_logits=False), \n",
        "              metrics=['acc'])\n",
        "\n",
        "model.summary()"
      ],
      "execution_count": 23,
      "outputs": [
        {
          "output_type": "stream",
          "text": [
            "Model: \"functional_9\"\n",
            "_________________________________________________________________\n",
            "Layer (type)                 Output Shape              Param #   \n",
            "=================================================================\n",
            "inp (InputLayer)             [(None, 32, 32, 3)]       0         \n",
            "_________________________________________________________________\n",
            "conv2d_12 (Conv2D)           (None, 30, 30, 64)        1792      \n",
            "_________________________________________________________________\n",
            "max_pooling2d_12 (MaxPooling (None, 15, 15, 64)        0         \n",
            "_________________________________________________________________\n",
            "conv2d_13 (Conv2D)           (None, 13, 13, 128)       73856     \n",
            "_________________________________________________________________\n",
            "max_pooling2d_13 (MaxPooling (None, 6, 6, 128)         0         \n",
            "_________________________________________________________________\n",
            "conv2d_14 (Conv2D)           (None, 4, 4, 256)         295168    \n",
            "_________________________________________________________________\n",
            "max_pooling2d_14 (MaxPooling (None, 2, 2, 256)         0         \n",
            "_________________________________________________________________\n",
            "flatten_4 (Flatten)          (None, 1024)              0         \n",
            "_________________________________________________________________\n",
            "dense_8 (Dense)              (None, 256)               262400    \n",
            "_________________________________________________________________\n",
            "dense_9 (Dense)              (None, 128)               32896     \n",
            "_________________________________________________________________\n",
            "out (Dense)                  (None, 10)                1290      \n",
            "=================================================================\n",
            "Total params: 667,402\n",
            "Trainable params: 667,402\n",
            "Non-trainable params: 0\n",
            "_________________________________________________________________\n"
          ],
          "name": "stdout"
        }
      ]
    },
    {
      "cell_type": "markdown",
      "metadata": {
        "id": "P3U4yauay-SL"
      },
      "source": [
        "# Training"
      ]
    },
    {
      "cell_type": "code",
      "metadata": {
        "id": "Hby3FQaCeAPE",
        "outputId": "40a446df-e4f1-4842-a59c-70aebec0b08e",
        "colab": {
          "base_uri": "https://localhost:8080/",
          "height": 544
        }
      },
      "source": [
        "filepath = 'model.h5'\n",
        "mc = tf.keras.callbacks.ModelCheckpoint(filepath, save_best_only=True, \n",
        "                                        save_weights_only=True)\n",
        "es = tf.keras.callbacks.EarlyStopping(patience=10, verbose=1)\n",
        "\n",
        "history = model.fit(train_images, train_labels, epochs=200, \n",
        "                    validation_data=(test_images, test_labels), \n",
        "                    callbacks=[mc, es], verbose=1)"
      ],
      "execution_count": 24,
      "outputs": [
        {
          "output_type": "stream",
          "text": [
            "Epoch 1/200\n",
            "1563/1563 [==============================] - 6s 4ms/step - loss: 1.4990 - acc: 0.4476 - val_loss: 1.2097 - val_acc: 0.5668\n",
            "Epoch 2/200\n",
            "1563/1563 [==============================] - 6s 4ms/step - loss: 1.0489 - acc: 0.6302 - val_loss: 1.0396 - val_acc: 0.6482\n",
            "Epoch 3/200\n",
            "1563/1563 [==============================] - 6s 4ms/step - loss: 0.8557 - acc: 0.7015 - val_loss: 0.8867 - val_acc: 0.6917\n",
            "Epoch 4/200\n",
            "1563/1563 [==============================] - 6s 4ms/step - loss: 0.7335 - acc: 0.7422 - val_loss: 0.8090 - val_acc: 0.7205\n",
            "Epoch 5/200\n",
            "1563/1563 [==============================] - 6s 4ms/step - loss: 0.6328 - acc: 0.7757 - val_loss: 0.7914 - val_acc: 0.7289\n",
            "Epoch 6/200\n",
            "1563/1563 [==============================] - 6s 4ms/step - loss: 0.5519 - acc: 0.8065 - val_loss: 0.8269 - val_acc: 0.7311\n",
            "Epoch 7/200\n",
            "1563/1563 [==============================] - 6s 4ms/step - loss: 0.4804 - acc: 0.8310 - val_loss: 0.8574 - val_acc: 0.7257\n",
            "Epoch 8/200\n",
            "1563/1563 [==============================] - 6s 4ms/step - loss: 0.4136 - acc: 0.8546 - val_loss: 0.9504 - val_acc: 0.7153\n",
            "Epoch 9/200\n",
            "1563/1563 [==============================] - 6s 4ms/step - loss: 0.3604 - acc: 0.8721 - val_loss: 0.9743 - val_acc: 0.7173\n",
            "Epoch 10/200\n",
            "1563/1563 [==============================] - 6s 4ms/step - loss: 0.3123 - acc: 0.8897 - val_loss: 0.9868 - val_acc: 0.7301\n",
            "Epoch 11/200\n",
            "1563/1563 [==============================] - 6s 4ms/step - loss: 0.2686 - acc: 0.9052 - val_loss: 1.0106 - val_acc: 0.7298\n",
            "Epoch 12/200\n",
            "1563/1563 [==============================] - 6s 4ms/step - loss: 0.2362 - acc: 0.9165 - val_loss: 1.1377 - val_acc: 0.7315\n",
            "Epoch 13/200\n",
            "1563/1563 [==============================] - 6s 4ms/step - loss: 0.2204 - acc: 0.9218 - val_loss: 1.1487 - val_acc: 0.7233\n",
            "Epoch 14/200\n",
            "1563/1563 [==============================] - 6s 4ms/step - loss: 0.1900 - acc: 0.9337 - val_loss: 1.1839 - val_acc: 0.7269\n",
            "Epoch 15/200\n",
            "1563/1563 [==============================] - 6s 4ms/step - loss: 0.1689 - acc: 0.9419 - val_loss: 1.3718 - val_acc: 0.7153\n",
            "Epoch 00015: early stopping\n"
          ],
          "name": "stdout"
        }
      ]
    },
    {
      "cell_type": "markdown",
      "metadata": {
        "id": "4WQ0KnfOzBfh"
      },
      "source": [
        "# Evaluation"
      ]
    },
    {
      "cell_type": "code",
      "metadata": {
        "id": "iaH8e17ceHfR",
        "outputId": "534aaa25-bfae-4004-deaa-b23e1c5b6a00",
        "colab": {
          "base_uri": "https://localhost:8080/",
          "height": 51
        }
      },
      "source": [
        "model.load_weights(filepath)\n",
        "metrics = model.evaluate(test_images, test_labels, verbose=0)\n",
        "print('Loss = ' + str(metrics[0]))\n",
        "print('Accuracy = ' + str(metrics[1]))"
      ],
      "execution_count": 25,
      "outputs": [
        {
          "output_type": "stream",
          "text": [
            "Loss = 0.7913779616355896\n",
            "Accuracy = 0.7289000153541565\n"
          ],
          "name": "stdout"
        }
      ]
    }
  ]
}