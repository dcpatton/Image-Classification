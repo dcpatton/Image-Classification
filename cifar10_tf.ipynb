{
  "nbformat": 4,
  "nbformat_minor": 0,
  "metadata": {
    "colab": {
      "name": "cifar10_tf.ipynb",
      "provenance": [],
      "authorship_tag": "ABX9TyMoKcVne2LhjFXSG/wgpvbR",
      "include_colab_link": true
    },
    "kernelspec": {
      "name": "python3",
      "display_name": "Python 3"
    },
    "accelerator": "GPU"
  },
  "cells": [
    {
      "cell_type": "markdown",
      "metadata": {
        "id": "view-in-github",
        "colab_type": "text"
      },
      "source": [
        "<a href=\"https://colab.research.google.com/github/dcpatton/Image-Classification/blob/master/cifar10_tf.ipynb\" target=\"_parent\"><img src=\"https://colab.research.google.com/assets/colab-badge.svg\" alt=\"Open In Colab\"/></a>"
      ]
    },
    {
      "cell_type": "code",
      "metadata": {
        "id": "I-iahbX8dFXL",
        "outputId": "b0e5a3f3-775b-40eb-8cd6-6291aa7dafae",
        "colab": {
          "base_uri": "https://localhost:8080/",
          "height": 35
        }
      },
      "source": [
        "import tensorflow as tf\n",
        "import random\n",
        "\n",
        "seed = 52\n",
        "tf.random.set_seed(seed)\n",
        "random.seed(seed)\n",
        "\n",
        "tf.__version__"
      ],
      "execution_count": 13,
      "outputs": [
        {
          "output_type": "execute_result",
          "data": {
            "application/vnd.google.colaboratory.intrinsic+json": {
              "type": "string"
            },
            "text/plain": [
              "'2.3.0'"
            ]
          },
          "metadata": {
            "tags": []
          },
          "execution_count": 13
        }
      ]
    },
    {
      "cell_type": "code",
      "metadata": {
        "id": "RdoXXxdZdSpk"
      },
      "source": [
        "(train_images, train_labels), (test_images, test_labels) = tf.keras.datasets.cifar10.load_data()\n",
        "# Normalize the data\n",
        "train_images, test_images = train_images / 255.0, test_images / 255.0\n",
        "train_labels = tf.keras.utils.to_categorical(train_labels)\n",
        "test_labels = tf.keras.utils.to_categorical(test_labels)"
      ],
      "execution_count": 14,
      "outputs": []
    },
    {
      "cell_type": "code",
      "metadata": {
        "id": "cZiu0IFEdael",
        "outputId": "51b5cb7a-26e9-4c5f-da7f-ad3ed8830299",
        "colab": {
          "base_uri": "https://localhost:8080/",
          "height": 51
        }
      },
      "source": [
        "print(train_images.shape)\n",
        "print(test_images.shape)"
      ],
      "execution_count": 15,
      "outputs": [
        {
          "output_type": "stream",
          "text": [
            "(50000, 32, 32, 3)\n",
            "(10000, 32, 32, 3)\n"
          ],
          "name": "stdout"
        }
      ]
    },
    {
      "cell_type": "code",
      "metadata": {
        "id": "_DlPei_tdgwB",
        "outputId": "e54ce7b1-d0e3-460d-97c0-a1c2f96fbb1e",
        "colab": {
          "base_uri": "https://localhost:8080/",
          "height": 527
        }
      },
      "source": [
        "from tensorflow.keras.layers import Conv2D, Flatten, MaxPool2D, Dense\n",
        "from tensorflow.keras import Input, Model\n",
        "\n",
        "inp = Input(shape=(32, 32, 3), name='inp')\n",
        "x = Conv2D(32, 3, activation='relu')(inp)\n",
        "x = MaxPool2D()(x)\n",
        "x = Conv2D(64, 3, activation='relu')(x)\n",
        "x = MaxPool2D()(x)\n",
        "x = Conv2D(128, 3, activation='relu')(x)\n",
        "x = MaxPool2D()(x)\n",
        "x = Flatten()(x)\n",
        "x = Dense(256, activation='relu')(x)\n",
        "x = Dense(64, activation='relu')(x)\n",
        "out = Dense(10, activation='softmax', name='out')(x)\n",
        "\n",
        "model = Model(inputs=[inp], outputs=[out])\n",
        "\n",
        "model.compile(optimizer=tf.keras.optimizers.Adam(),\n",
        "              loss=tf.keras.losses.CategoricalCrossentropy(from_logits=False), \n",
        "              metrics=['acc'])\n",
        "\n",
        "model.summary()"
      ],
      "execution_count": 16,
      "outputs": [
        {
          "output_type": "stream",
          "text": [
            "Model: \"functional_5\"\n",
            "_________________________________________________________________\n",
            "Layer (type)                 Output Shape              Param #   \n",
            "=================================================================\n",
            "inp (InputLayer)             [(None, 32, 32, 3)]       0         \n",
            "_________________________________________________________________\n",
            "conv2d_6 (Conv2D)            (None, 30, 30, 32)        896       \n",
            "_________________________________________________________________\n",
            "max_pooling2d_6 (MaxPooling2 (None, 15, 15, 32)        0         \n",
            "_________________________________________________________________\n",
            "conv2d_7 (Conv2D)            (None, 13, 13, 64)        18496     \n",
            "_________________________________________________________________\n",
            "max_pooling2d_7 (MaxPooling2 (None, 6, 6, 64)          0         \n",
            "_________________________________________________________________\n",
            "conv2d_8 (Conv2D)            (None, 4, 4, 128)         73856     \n",
            "_________________________________________________________________\n",
            "max_pooling2d_8 (MaxPooling2 (None, 2, 2, 128)         0         \n",
            "_________________________________________________________________\n",
            "flatten_2 (Flatten)          (None, 512)               0         \n",
            "_________________________________________________________________\n",
            "dense_4 (Dense)              (None, 256)               131328    \n",
            "_________________________________________________________________\n",
            "dense_5 (Dense)              (None, 64)                16448     \n",
            "_________________________________________________________________\n",
            "out (Dense)                  (None, 10)                650       \n",
            "=================================================================\n",
            "Total params: 241,674\n",
            "Trainable params: 241,674\n",
            "Non-trainable params: 0\n",
            "_________________________________________________________________\n"
          ],
          "name": "stdout"
        }
      ]
    },
    {
      "cell_type": "code",
      "metadata": {
        "id": "Hby3FQaCeAPE",
        "outputId": "c59f64be-68f3-4096-a2c6-0e60b8262599",
        "colab": {
          "base_uri": "https://localhost:8080/",
          "height": 544
        }
      },
      "source": [
        "filepath = 'model.h5'\n",
        "mc = tf.keras.callbacks.ModelCheckpoint(filepath, save_best_only=True, \n",
        "                                        save_weights_only=True)\n",
        "es = tf.keras.callbacks.EarlyStopping(patience=10, verbose=1)\n",
        "\n",
        "history = model.fit(train_images, train_labels, epochs=200, \n",
        "                    validation_data=(test_images, test_labels), \n",
        "                    callbacks=[mc, es], verbose=1)"
      ],
      "execution_count": 17,
      "outputs": [
        {
          "output_type": "stream",
          "text": [
            "Epoch 1/200\n",
            "1563/1563 [==============================] - 7s 5ms/step - loss: 1.4951 - acc: 0.4511 - val_loss: 1.2087 - val_acc: 0.5695\n",
            "Epoch 2/200\n",
            "1563/1563 [==============================] - 6s 4ms/step - loss: 1.1001 - acc: 0.6108 - val_loss: 1.0607 - val_acc: 0.6267\n",
            "Epoch 3/200\n",
            "1563/1563 [==============================] - 6s 4ms/step - loss: 0.9210 - acc: 0.6758 - val_loss: 0.9197 - val_acc: 0.6781\n",
            "Epoch 4/200\n",
            "1563/1563 [==============================] - 6s 4ms/step - loss: 0.8051 - acc: 0.7181 - val_loss: 0.9093 - val_acc: 0.6849\n",
            "Epoch 5/200\n",
            "1563/1563 [==============================] - 6s 4ms/step - loss: 0.7148 - acc: 0.7509 - val_loss: 0.8366 - val_acc: 0.7126\n",
            "Epoch 6/200\n",
            "1563/1563 [==============================] - 6s 4ms/step - loss: 0.6379 - acc: 0.7759 - val_loss: 0.8537 - val_acc: 0.7127\n",
            "Epoch 7/200\n",
            "1563/1563 [==============================] - 6s 4ms/step - loss: 0.5753 - acc: 0.7981 - val_loss: 0.8368 - val_acc: 0.7158\n",
            "Epoch 8/200\n",
            "1563/1563 [==============================] - 6s 4ms/step - loss: 0.5231 - acc: 0.8158 - val_loss: 0.8731 - val_acc: 0.7154\n",
            "Epoch 9/200\n",
            "1563/1563 [==============================] - 6s 4ms/step - loss: 0.4677 - acc: 0.8346 - val_loss: 0.8743 - val_acc: 0.7205\n",
            "Epoch 10/200\n",
            "1563/1563 [==============================] - 6s 4ms/step - loss: 0.4223 - acc: 0.8509 - val_loss: 0.9289 - val_acc: 0.7125\n",
            "Epoch 11/200\n",
            "1563/1563 [==============================] - 6s 4ms/step - loss: 0.3808 - acc: 0.8661 - val_loss: 0.9635 - val_acc: 0.7150\n",
            "Epoch 12/200\n",
            "1563/1563 [==============================] - 6s 4ms/step - loss: 0.3411 - acc: 0.8795 - val_loss: 1.0086 - val_acc: 0.7247\n",
            "Epoch 13/200\n",
            "1563/1563 [==============================] - 6s 4ms/step - loss: 0.3074 - acc: 0.8916 - val_loss: 1.0691 - val_acc: 0.7081\n",
            "Epoch 14/200\n",
            "1563/1563 [==============================] - 6s 4ms/step - loss: 0.2813 - acc: 0.8984 - val_loss: 1.1293 - val_acc: 0.7142\n",
            "Epoch 15/200\n",
            "1563/1563 [==============================] - 6s 4ms/step - loss: 0.2537 - acc: 0.9099 - val_loss: 1.1592 - val_acc: 0.7172\n",
            "Epoch 00015: early stopping\n"
          ],
          "name": "stdout"
        }
      ]
    },
    {
      "cell_type": "code",
      "metadata": {
        "id": "iaH8e17ceHfR",
        "outputId": "8df44ea8-810a-4516-e64d-7cc230fc77f2",
        "colab": {
          "base_uri": "https://localhost:8080/",
          "height": 51
        }
      },
      "source": [
        "model.load_weights(filepath)\n",
        "metrics = model.evaluate(test_images, test_labels, verbose=0)\n",
        "print('Loss = ' + str(metrics[0]))\n",
        "print('Accuracy = ' + str(metrics[1]))"
      ],
      "execution_count": 18,
      "outputs": [
        {
          "output_type": "stream",
          "text": [
            "Loss = 0.8365728259086609\n",
            "Accuracy = 0.7125999927520752\n"
          ],
          "name": "stdout"
        }
      ]
    }
  ]
}