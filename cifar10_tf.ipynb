{
  "nbformat": 4,
  "nbformat_minor": 0,
  "metadata": {
    "colab": {
      "name": "cifar10_tf.ipynb",
      "provenance": [],
      "authorship_tag": "ABX9TyMcU44ZVMZzch6Doj45ZDIb",
      "include_colab_link": true
    },
    "kernelspec": {
      "name": "python3",
      "display_name": "Python 3"
    },
    "accelerator": "GPU"
  },
  "cells": [
    {
      "cell_type": "markdown",
      "metadata": {
        "id": "view-in-github",
        "colab_type": "text"
      },
      "source": [
        "<a href=\"https://colab.research.google.com/github/dcpatton/Image-Classification/blob/master/cifar10_tf.ipynb\" target=\"_parent\"><img src=\"https://colab.research.google.com/assets/colab-badge.svg\" alt=\"Open In Colab\"/></a>"
      ]
    },
    {
      "cell_type": "markdown",
      "metadata": {
        "id": "5Of2BMDeyjMX"
      },
      "source": [
        "# Objective\n",
        "\n",
        "\n",
        "\n",
        "> Just a simple example of image classification with a CNN in TensorFlow\n",
        "\n"
      ]
    },
    {
      "cell_type": "code",
      "metadata": {
        "id": "I-iahbX8dFXL",
        "outputId": "75794d2d-ac32-4ddc-f409-e9f15ade190b",
        "colab": {
          "base_uri": "https://localhost:8080/",
          "height": 35
        }
      },
      "source": [
        "import tensorflow as tf\n",
        "import random\n",
        "\n",
        "seed = 52\n",
        "tf.random.set_seed(seed)\n",
        "random.seed(seed)\n",
        "\n",
        "tf.__version__"
      ],
      "execution_count": 67,
      "outputs": [
        {
          "output_type": "execute_result",
          "data": {
            "application/vnd.google.colaboratory.intrinsic+json": {
              "type": "string"
            },
            "text/plain": [
              "'2.3.0'"
            ]
          },
          "metadata": {
            "tags": []
          },
          "execution_count": 67
        }
      ]
    },
    {
      "cell_type": "markdown",
      "metadata": {
        "id": "E_v1V8LEy3ut"
      },
      "source": [
        "# Get the data"
      ]
    },
    {
      "cell_type": "code",
      "metadata": {
        "id": "RdoXXxdZdSpk"
      },
      "source": [
        "(train_images, train_labels), (test_images, test_labels) = tf.keras.datasets.cifar10.load_data()\n",
        "train_labels = tf.keras.utils.to_categorical(train_labels)\n",
        "test_labels = tf.keras.utils.to_categorical(test_labels)"
      ],
      "execution_count": 68,
      "outputs": []
    },
    {
      "cell_type": "code",
      "metadata": {
        "id": "cZiu0IFEdael",
        "outputId": "9fbf9739-7a5c-4791-ae23-168319d1ce9a",
        "colab": {
          "base_uri": "https://localhost:8080/",
          "height": 51
        }
      },
      "source": [
        "print(train_images.shape)\n",
        "print(test_images.shape)"
      ],
      "execution_count": 69,
      "outputs": [
        {
          "output_type": "stream",
          "text": [
            "(50000, 32, 32, 3)\n",
            "(10000, 32, 32, 3)\n"
          ],
          "name": "stdout"
        }
      ]
    },
    {
      "cell_type": "markdown",
      "metadata": {
        "id": "zlApp8dxy7Ws"
      },
      "source": [
        "# Model"
      ]
    },
    {
      "cell_type": "code",
      "metadata": {
        "id": "_DlPei_tdgwB",
        "outputId": "fe6c188b-18a2-42f2-b5fe-b3b218a14933",
        "colab": {
          "base_uri": "https://localhost:8080/",
          "height": 697
        }
      },
      "source": [
        "from tensorflow.keras.layers import Conv2D, Flatten, MaxPool2D, Dense, Dropout\n",
        "from tensorflow.keras.layers.experimental.preprocessing import Rescaling, RandomRotation\n",
        "from tensorflow.keras import Input, Model\n",
        "\n",
        "inp = Input(shape=(32, 32, 3), name='inp')\n",
        "# x = RandomRotation(0.1, seed=seed)(inp)\n",
        "x = Rescaling(1./255)(x)\n",
        "x = Conv2D(64, 5, activation='relu')(inp)\n",
        "x = Dropout(0.25)(x)\n",
        "x = MaxPool2D()(x)\n",
        "x = Conv2D(128, 3, activation='relu')(x)\n",
        "x = Dropout(0.25)(x)\n",
        "x = MaxPool2D()(x)\n",
        "x = Conv2D(256, 3, activation='relu')(x)\n",
        "x = Dropout(0.25)(x)\n",
        "x = MaxPool2D()(x)\n",
        "x = Flatten()(x)\n",
        "x = Dense(256, activation='relu')(x)\n",
        "x = Dropout(0.25)(x)\n",
        "x = Dense(128, activation='relu')(x)\n",
        "x = Dropout(0.25)(x)\n",
        "out = Dense(10, activation='softmax', name='out')(x)\n",
        "\n",
        "model = Model(inputs=[inp], outputs=[out])\n",
        "\n",
        "model.compile(optimizer=tf.keras.optimizers.Adam(),\n",
        "              loss=tf.keras.losses.CategoricalCrossentropy(from_logits=False), \n",
        "              metrics=['acc'])\n",
        "\n",
        "model.summary()"
      ],
      "execution_count": 70,
      "outputs": [
        {
          "output_type": "stream",
          "text": [
            "Model: \"functional_25\"\n",
            "_________________________________________________________________\n",
            "Layer (type)                 Output Shape              Param #   \n",
            "=================================================================\n",
            "inp (InputLayer)             [(None, 32, 32, 3)]       0         \n",
            "_________________________________________________________________\n",
            "conv2d_36 (Conv2D)           (None, 28, 28, 64)        4864      \n",
            "_________________________________________________________________\n",
            "dropout_3 (Dropout)          (None, 28, 28, 64)        0         \n",
            "_________________________________________________________________\n",
            "max_pooling2d_36 (MaxPooling (None, 14, 14, 64)        0         \n",
            "_________________________________________________________________\n",
            "conv2d_37 (Conv2D)           (None, 12, 12, 128)       73856     \n",
            "_________________________________________________________________\n",
            "dropout_4 (Dropout)          (None, 12, 12, 128)       0         \n",
            "_________________________________________________________________\n",
            "max_pooling2d_37 (MaxPooling (None, 6, 6, 128)         0         \n",
            "_________________________________________________________________\n",
            "conv2d_38 (Conv2D)           (None, 4, 4, 256)         295168    \n",
            "_________________________________________________________________\n",
            "dropout_5 (Dropout)          (None, 4, 4, 256)         0         \n",
            "_________________________________________________________________\n",
            "max_pooling2d_38 (MaxPooling (None, 2, 2, 256)         0         \n",
            "_________________________________________________________________\n",
            "flatten_12 (Flatten)         (None, 1024)              0         \n",
            "_________________________________________________________________\n",
            "dense_24 (Dense)             (None, 256)               262400    \n",
            "_________________________________________________________________\n",
            "dropout_6 (Dropout)          (None, 256)               0         \n",
            "_________________________________________________________________\n",
            "dense_25 (Dense)             (None, 128)               32896     \n",
            "_________________________________________________________________\n",
            "dropout_7 (Dropout)          (None, 128)               0         \n",
            "_________________________________________________________________\n",
            "out (Dense)                  (None, 10)                1290      \n",
            "=================================================================\n",
            "Total params: 670,474\n",
            "Trainable params: 670,474\n",
            "Non-trainable params: 0\n",
            "_________________________________________________________________\n"
          ],
          "name": "stdout"
        }
      ]
    },
    {
      "cell_type": "markdown",
      "metadata": {
        "id": "P3U4yauay-SL"
      },
      "source": [
        "# Training"
      ]
    },
    {
      "cell_type": "code",
      "metadata": {
        "id": "Hby3FQaCeAPE",
        "outputId": "baff9b40-c8dc-4748-da91-89fccd15aa49",
        "colab": {
          "base_uri": "https://localhost:8080/",
          "height": 1000
        }
      },
      "source": [
        "filepath = 'model.h5'\n",
        "mc = tf.keras.callbacks.ModelCheckpoint(filepath, save_best_only=True, \n",
        "                                        save_weights_only=True)\n",
        "es = tf.keras.callbacks.EarlyStopping(patience=10, verbose=1)\n",
        "\n",
        "history = model.fit(train_images, train_labels, epochs=200, \n",
        "                    validation_data=(test_images, test_labels), \n",
        "                    callbacks=[mc, es], verbose=1, batch_size=16)"
      ],
      "execution_count": 71,
      "outputs": [
        {
          "output_type": "stream",
          "text": [
            "Epoch 1/200\n",
            "1563/1563 [==============================] - 6s 4ms/step - loss: 2.0064 - acc: 0.3112 - val_loss: 1.7485 - val_acc: 0.4136\n",
            "Epoch 2/200\n",
            "1563/1563 [==============================] - 6s 4ms/step - loss: 1.5927 - acc: 0.4244 - val_loss: 1.5934 - val_acc: 0.4580\n",
            "Epoch 3/200\n",
            "1563/1563 [==============================] - 6s 4ms/step - loss: 1.4952 - acc: 0.4677 - val_loss: 1.5192 - val_acc: 0.4843\n",
            "Epoch 4/200\n",
            "1563/1563 [==============================] - 6s 4ms/step - loss: 1.4504 - acc: 0.4860 - val_loss: 1.4589 - val_acc: 0.5235\n",
            "Epoch 5/200\n",
            "1563/1563 [==============================] - 6s 4ms/step - loss: 1.4162 - acc: 0.5016 - val_loss: 1.4758 - val_acc: 0.5150\n",
            "Epoch 6/200\n",
            "1563/1563 [==============================] - 7s 4ms/step - loss: 1.3693 - acc: 0.5194 - val_loss: 1.3711 - val_acc: 0.5454\n",
            "Epoch 7/200\n",
            "1563/1563 [==============================] - 6s 4ms/step - loss: 1.3353 - acc: 0.5369 - val_loss: 1.4569 - val_acc: 0.4982\n",
            "Epoch 8/200\n",
            "1563/1563 [==============================] - 6s 4ms/step - loss: 1.3206 - acc: 0.5444 - val_loss: 1.3184 - val_acc: 0.5619\n",
            "Epoch 9/200\n",
            "1563/1563 [==============================] - 6s 4ms/step - loss: 1.2987 - acc: 0.5531 - val_loss: 1.2693 - val_acc: 0.5956\n",
            "Epoch 10/200\n",
            "1563/1563 [==============================] - 6s 4ms/step - loss: 1.2641 - acc: 0.5625 - val_loss: 1.2469 - val_acc: 0.5870\n",
            "Epoch 11/200\n",
            "1563/1563 [==============================] - 6s 4ms/step - loss: 1.2526 - acc: 0.5698 - val_loss: 1.2495 - val_acc: 0.5838\n",
            "Epoch 12/200\n",
            "1563/1563 [==============================] - 6s 4ms/step - loss: 1.2440 - acc: 0.5778 - val_loss: 1.2188 - val_acc: 0.6026\n",
            "Epoch 13/200\n",
            "1563/1563 [==============================] - 6s 4ms/step - loss: 1.2230 - acc: 0.5834 - val_loss: 1.2031 - val_acc: 0.6082\n",
            "Epoch 14/200\n",
            "1563/1563 [==============================] - 6s 4ms/step - loss: 1.2119 - acc: 0.5866 - val_loss: 1.2152 - val_acc: 0.6041\n",
            "Epoch 15/200\n",
            "1563/1563 [==============================] - 6s 4ms/step - loss: 1.1995 - acc: 0.5929 - val_loss: 1.2029 - val_acc: 0.5971\n",
            "Epoch 16/200\n",
            "1563/1563 [==============================] - 7s 5ms/step - loss: 1.1935 - acc: 0.5953 - val_loss: 1.3109 - val_acc: 0.5843\n",
            "Epoch 17/200\n",
            "1563/1563 [==============================] - 7s 4ms/step - loss: 1.1898 - acc: 0.6001 - val_loss: 1.2285 - val_acc: 0.5971\n",
            "Epoch 18/200\n",
            "1563/1563 [==============================] - 6s 4ms/step - loss: 1.1923 - acc: 0.6026 - val_loss: 1.2754 - val_acc: 0.5814\n",
            "Epoch 19/200\n",
            "1563/1563 [==============================] - 6s 4ms/step - loss: 1.1732 - acc: 0.6052 - val_loss: 1.1658 - val_acc: 0.6185\n",
            "Epoch 20/200\n",
            "1563/1563 [==============================] - 6s 4ms/step - loss: 1.1620 - acc: 0.6105 - val_loss: 1.1491 - val_acc: 0.6114\n",
            "Epoch 21/200\n",
            "1563/1563 [==============================] - 6s 4ms/step - loss: 1.1580 - acc: 0.6138 - val_loss: 1.1878 - val_acc: 0.6258\n",
            "Epoch 22/200\n",
            "1563/1563 [==============================] - 6s 4ms/step - loss: 1.1458 - acc: 0.6169 - val_loss: 1.1998 - val_acc: 0.6171\n",
            "Epoch 23/200\n",
            "1563/1563 [==============================] - 6s 4ms/step - loss: 1.1417 - acc: 0.6183 - val_loss: 1.1099 - val_acc: 0.6489\n",
            "Epoch 24/200\n",
            "1563/1563 [==============================] - 6s 4ms/step - loss: 1.1458 - acc: 0.6212 - val_loss: 1.1869 - val_acc: 0.6158\n",
            "Epoch 25/200\n",
            "1563/1563 [==============================] - 6s 4ms/step - loss: 1.1307 - acc: 0.6250 - val_loss: 1.1166 - val_acc: 0.6252\n",
            "Epoch 26/200\n",
            "1563/1563 [==============================] - 6s 4ms/step - loss: 1.1143 - acc: 0.6321 - val_loss: 1.1096 - val_acc: 0.6421\n",
            "Epoch 27/200\n",
            "1563/1563 [==============================] - 6s 4ms/step - loss: 1.1255 - acc: 0.6252 - val_loss: 1.1408 - val_acc: 0.6324\n",
            "Epoch 28/200\n",
            "1563/1563 [==============================] - 6s 4ms/step - loss: 1.1350 - acc: 0.6233 - val_loss: 1.2159 - val_acc: 0.5983\n",
            "Epoch 29/200\n",
            "1563/1563 [==============================] - 6s 4ms/step - loss: 1.1091 - acc: 0.6360 - val_loss: 1.0839 - val_acc: 0.6515\n",
            "Epoch 30/200\n",
            "1563/1563 [==============================] - 6s 4ms/step - loss: 1.1168 - acc: 0.6329 - val_loss: 1.0966 - val_acc: 0.6381\n",
            "Epoch 31/200\n",
            "1563/1563 [==============================] - 6s 4ms/step - loss: 1.1017 - acc: 0.6330 - val_loss: 1.1453 - val_acc: 0.6358\n",
            "Epoch 32/200\n",
            "1563/1563 [==============================] - 6s 4ms/step - loss: 1.1195 - acc: 0.6331 - val_loss: 1.0799 - val_acc: 0.6453\n",
            "Epoch 33/200\n",
            "1563/1563 [==============================] - 6s 4ms/step - loss: 1.1027 - acc: 0.6396 - val_loss: 1.2589 - val_acc: 0.5762\n",
            "Epoch 34/200\n",
            "1563/1563 [==============================] - 6s 4ms/step - loss: 1.1237 - acc: 0.6311 - val_loss: 1.1754 - val_acc: 0.6098\n",
            "Epoch 35/200\n",
            "1563/1563 [==============================] - 6s 4ms/step - loss: 1.1011 - acc: 0.6369 - val_loss: 1.1902 - val_acc: 0.6150\n",
            "Epoch 36/200\n",
            "1563/1563 [==============================] - 6s 4ms/step - loss: 1.1000 - acc: 0.6385 - val_loss: 1.1342 - val_acc: 0.6328\n",
            "Epoch 37/200\n",
            "1563/1563 [==============================] - 6s 4ms/step - loss: 1.1016 - acc: 0.6406 - val_loss: 1.0619 - val_acc: 0.6606\n",
            "Epoch 38/200\n",
            "1563/1563 [==============================] - 6s 4ms/step - loss: 1.1085 - acc: 0.6376 - val_loss: 1.1562 - val_acc: 0.6386\n",
            "Epoch 39/200\n",
            "1563/1563 [==============================] - 6s 4ms/step - loss: 1.1090 - acc: 0.6343 - val_loss: 1.0439 - val_acc: 0.6723\n",
            "Epoch 40/200\n",
            "1563/1563 [==============================] - 6s 4ms/step - loss: 1.1010 - acc: 0.6410 - val_loss: 1.1133 - val_acc: 0.6437\n",
            "Epoch 41/200\n",
            "1563/1563 [==============================] - 6s 4ms/step - loss: 1.0961 - acc: 0.6429 - val_loss: 1.2743 - val_acc: 0.5882\n",
            "Epoch 42/200\n",
            "1563/1563 [==============================] - 6s 4ms/step - loss: 1.1147 - acc: 0.6388 - val_loss: 1.0722 - val_acc: 0.6514\n",
            "Epoch 43/200\n",
            "1563/1563 [==============================] - 6s 4ms/step - loss: 1.0933 - acc: 0.6414 - val_loss: 1.0702 - val_acc: 0.6435\n",
            "Epoch 44/200\n",
            "1563/1563 [==============================] - 6s 4ms/step - loss: 1.1056 - acc: 0.6408 - val_loss: 1.0885 - val_acc: 0.6342\n",
            "Epoch 45/200\n",
            "1563/1563 [==============================] - 6s 4ms/step - loss: 1.0803 - acc: 0.6502 - val_loss: 1.0695 - val_acc: 0.6521\n",
            "Epoch 46/200\n",
            "1563/1563 [==============================] - 6s 4ms/step - loss: 1.0877 - acc: 0.6482 - val_loss: 1.1796 - val_acc: 0.6415\n",
            "Epoch 47/200\n",
            "1563/1563 [==============================] - 6s 4ms/step - loss: 1.0882 - acc: 0.6483 - val_loss: 1.0622 - val_acc: 0.6642\n",
            "Epoch 48/200\n",
            "1563/1563 [==============================] - 6s 4ms/step - loss: 1.0903 - acc: 0.6480 - val_loss: 1.1331 - val_acc: 0.6522\n",
            "Epoch 49/200\n",
            "1563/1563 [==============================] - 6s 4ms/step - loss: 1.1020 - acc: 0.6426 - val_loss: 1.0604 - val_acc: 0.6696\n",
            "Epoch 00049: early stopping\n"
          ],
          "name": "stdout"
        }
      ]
    },
    {
      "cell_type": "markdown",
      "metadata": {
        "id": "4WQ0KnfOzBfh"
      },
      "source": [
        "# Evaluation"
      ]
    },
    {
      "cell_type": "code",
      "metadata": {
        "id": "iaH8e17ceHfR",
        "outputId": "b8fd5545-c98d-4c84-a5fa-0bd1b3f8c2cb",
        "colab": {
          "base_uri": "https://localhost:8080/",
          "height": 51
        }
      },
      "source": [
        "model.load_weights(filepath)\n",
        "metrics = model.evaluate(test_images, test_labels, verbose=0)\n",
        "print('Loss = ' + str(metrics[0]))\n",
        "print('Accuracy = ' + str(metrics[1]))"
      ],
      "execution_count": 72,
      "outputs": [
        {
          "output_type": "stream",
          "text": [
            "Loss = 1.0439012050628662\n",
            "Accuracy = 0.6722999811172485\n"
          ],
          "name": "stdout"
        }
      ]
    },
    {
      "cell_type": "markdown",
      "metadata": {
        "id": "W8KdlrHD3Jqv"
      },
      "source": [
        "Loss = 0.7913779616355896\n",
        "\n",
        "Accuracy = 0.7289000153541565"
      ]
    }
  ]
}